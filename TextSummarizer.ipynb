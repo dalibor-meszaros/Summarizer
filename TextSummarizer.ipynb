{
 "cells": [
  {
   "cell_type": "code",
   "execution_count": null,
   "metadata": {
    "collapsed": true
   },
   "outputs": [],
   "source": [
    "from text_processing.runner import TextProcessingRunner\n",
    "\n",
    "from summarizer.seq2seq.model import Seq2SeqModel\n",
    "from summarizer.seq2seq.training import Seq2SeqTraining\n",
    "\n",
    "from IPython.display import clear_output\n",
    "\n",
    "from configuration import mkdir_if_not_exists\n",
    "\n",
    "rootdir_data = './data/'\n",
    "data_name = 'annota-title-fulltext'\n",
    "vec_name = 'en/300'\n",
    "model_nickname = 'slurpee'\n",
    "save_path = {\n",
    "    'model': './models/{}_{}/model'.format(data_name, model_nickname),\n",
    "    'variables': './models/{}_{}/variables'.format(data_name, model_nickname),\n",
    "    'logs': './models/{}_{}/example_logs.txt'.format(data_name, model_nickname),\n",
    "}\n",
    "configurations = { \n",
    "    data_name,\n",
    "    'vectors/{}'.format(vec_name),\n",
    "    'multilayer',\n",
    "    'eco',\n",
    "}\n",
    "linecount = None"
   ]
  },
  {
   "cell_type": "code",
   "execution_count": null,
   "metadata": {
    "collapsed": true
   },
   "outputs": [],
   "source": [
    "def make_missing_dirs(data_name, vec_name, model_nickname):\n",
    "    mkdir_if_not_exists('./data/embeddings/{}'.format(data_name))\n",
    "    mkdir_if_not_exists('./data/embeddings/{}/{}'.format(data_name, vec_name.split('/')[0]))\n",
    "    mkdir_if_not_exists('./data/embeddings/{}/{}/{}'.format(data_name, vec_name.split('/')[0], vec_name.split('/')[1]))\n",
    "    mkdir_if_not_exists('./data/batches/{}'.format(data_name))\n",
    "    mkdir_if_not_exists('./models/{}_{}'.format(data_name, model_nickname))\n",
    "\n",
    "make_missing_dirs(data_name=data_name,\n",
    "                  vec_name=vec_name,\n",
    "                  model_nickname=model_nickname)"
   ]
  },
  {
   "cell_type": "code",
   "execution_count": null,
   "metadata": {
    "collapsed": true,
    "scrolled": true
   },
   "outputs": [],
   "source": [
    "# Process data\n",
    "text_processing = TextProcessingRunner(configurations=configurations, \n",
    "                                       rootdir=rootdir_data, \n",
    "                                       linecount=linecount, \n",
    "                                       checkpoint=20)\n",
    "text_processing.run()"
   ]
  },
  {
   "cell_type": "code",
   "execution_count": null,
   "metadata": {
    "collapsed": true,
    "scrolled": false
   },
   "outputs": [],
   "source": [
    "# Init model\n",
    "model = Seq2SeqModel(configurations=configurations, \n",
    "                     rootdir=rootdir_data)\n",
    "model.initialize()\n",
    "trainer = Seq2SeqTraining(model)"
   ]
  },
  {
   "cell_type": "code",
   "execution_count": null,
   "metadata": {
    "collapsed": true
   },
   "outputs": [],
   "source": [
    "# Load model and variables from files\n",
    "model.load(save_path['model'])\n",
    "trainer.load(save_path['variables'])"
   ]
  },
  {
   "cell_type": "code",
   "execution_count": null,
   "metadata": {
    "collapsed": true,
    "scrolled": false
   },
   "outputs": [],
   "source": [
    "# Train\n",
    "trainer.run(print_after_steps=500,\n",
    "            output_file=save_path['logs'])"
   ]
  },
  {
   "cell_type": "code",
   "execution_count": null,
   "metadata": {
    "collapsed": true,
    "scrolled": true
   },
   "outputs": [],
   "source": [
    "# Check epochs\n",
    "print('Epochs: {}'.format(model.train_iter.epochs))\n",
    "# Check graphs of trained model\n",
    "trainer.print_graphs()"
   ]
  },
  {
   "cell_type": "code",
   "execution_count": null,
   "metadata": {
    "collapsed": true
   },
   "outputs": [],
   "source": [
    "# Save model and variables for further use\n",
    "model.save(save_path['model'])\n",
    "trainer.save(save_path['variables'])"
   ]
  }
 ],
 "metadata": {
  "kernelspec": {
   "display_name": "Python 3",
   "language": "python",
   "name": "python3"
  },
  "language_info": {
   "codemirror_mode": {
    "name": "ipython",
    "version": 3
   },
   "file_extension": ".py",
   "mimetype": "text/x-python",
   "name": "python",
   "nbconvert_exporter": "python",
   "pygments_lexer": "ipython3",
   "version": "3.5.2"
  }
 },
 "nbformat": 4,
 "nbformat_minor": 1
}
